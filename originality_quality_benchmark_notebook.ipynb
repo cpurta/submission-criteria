{
 "cells": [
  {
   "cell_type": "code",
   "execution_count": 1,
   "metadata": {
    "collapsed": false,
    "deletable": true,
    "editable": true
   },
   "outputs": [],
   "source": [
    "import bz2\n",
    "import pandas as pd\n",
    "import numpy as np"
   ]
  },
  {
   "cell_type": "code",
   "execution_count": 2,
   "metadata": {
    "collapsed": true,
    "deletable": true,
    "editable": true
   },
   "outputs": [],
   "source": [
    "from originality import original"
   ]
  },
  {
   "cell_type": "code",
   "execution_count": 3,
   "metadata": {
    "collapsed": true,
    "deletable": true,
    "editable": true
   },
   "outputs": [],
   "source": [
    "from sklearn.neural_network import MLPClassifier\n",
    "from sklearn.neighbors import KNeighborsClassifier\n",
    "from sklearn.svm import SVC\n",
    "from sklearn.gaussian_process import GaussianProcessClassifier\n",
    "from sklearn.gaussian_process.kernels import RBF\n",
    "from sklearn.tree import DecisionTreeClassifier\n",
    "from sklearn.ensemble import RandomForestClassifier, AdaBoostClassifier\n",
    "from sklearn.naive_bayes import GaussianNB\n",
    "from sklearn.discriminant_analysis import QuadraticDiscriminantAnalysis\n",
    "from sklearn.linear_model import LogisticRegression"
   ]
  },
  {
   "cell_type": "code",
   "execution_count": 4,
   "metadata": {
    "collapsed": true,
    "deletable": true,
    "editable": true
   },
   "outputs": [],
   "source": [
    "def warn(*args, **kwargs):\n",
    "    pass\n",
    "import warnings\n",
    "warnings.warn = warn"
   ]
  },
  {
   "cell_type": "code",
   "execution_count": 5,
   "metadata": {
    "collapsed": true,
    "deletable": true,
    "editable": true
   },
   "outputs": [],
   "source": [
    "tournament_file = bz2.open(\"data/sample_tournament.csv.bz2\")\n",
    "training_file = bz2.open(\"data/sample_training.csv.bz2\")"
   ]
  },
  {
   "cell_type": "code",
   "execution_count": 6,
   "metadata": {
    "collapsed": false,
    "deletable": true,
    "editable": true
   },
   "outputs": [],
   "source": [
    "tournament_data = pd.read_csv(tournament_file)\n",
    "training_data = pd.read_csv(training_file)"
   ]
  },
  {
   "cell_type": "code",
   "execution_count": 7,
   "metadata": {
    "collapsed": false,
    "deletable": true,
    "editable": true
   },
   "outputs": [],
   "source": [
    "f = [c for c in list(training_data) if \"feature\" in c]\n",
    "X, Y = training_data[f], training_data[\"target\"]\n",
    "X_cv = tournament_data[f]"
   ]
  },
  {
   "cell_type": "code",
   "execution_count": 8,
   "metadata": {
    "collapsed": false,
    "deletable": true,
    "editable": true
   },
   "outputs": [],
   "source": [
    "def similar_model(model, num_models=21):\n",
    "    results = []\n",
    "    for i in range(num_models):\n",
    "        \n",
    "        model.fit(X,Y)\n",
    "        pred = model.predict_proba(X_cv)[:,1]\n",
    "        results.append(pred)\n",
    "        \n",
    "    return results\n",
    "    \n",
    "    "
   ]
  },
  {
   "cell_type": "code",
   "execution_count": 9,
   "metadata": {
    "collapsed": true,
    "deletable": true,
    "editable": true
   },
   "outputs": [],
   "source": [
    "def score_similar_models(predictions):\n",
    "    baseline = predictions[0]\n",
    "    baseline.sort()\n",
    "    \n",
    "    scores = np.array([original(baseline, predictions[i]) for i in range(1, len(predictions))])\n",
    "\n",
    "    return np.sum(scores)/len(scores)\n",
    "    "
   ]
  },
  {
   "cell_type": "code",
   "execution_count": 10,
   "metadata": {
    "collapsed": false,
    "deletable": true,
    "editable": true
   },
   "outputs": [],
   "source": [
    "def find_noise_threshold(model):\n",
    "    \n",
    "    model.fit(X,Y)\n",
    "    baseline = model.predict_proba(X_cv)[:,1]\n",
    "    \n",
    "    baseline.sort()\n",
    "    noise_scale = 0.0\n",
    "    \n",
    "    while True:\n",
    "        noised = baseline + np.random.uniform(low=-noise_scale, high=noise_scale, size=baseline.shape)\n",
    "        noised = np.clip(noised, 0, 1)\n",
    "        \n",
    "        is_original = original(baseline, noised)\n",
    "        \n",
    "        if is_original:\n",
    "            break\n",
    "        \n",
    "        noise_scale+= 0.01\n",
    "        \n",
    "        if noise_scale>0.5:\n",
    "            noise_scale = \"NAN\"\n",
    "            break\n",
    "        \n",
    "    return noise_scale\n",
    "    "
   ]
  },
  {
   "cell_type": "code",
   "execution_count": 11,
   "metadata": {
    "collapsed": false,
    "deletable": true,
    "editable": true
   },
   "outputs": [],
   "source": [
    "models = [\n",
    "    (\"LogisticRegression\", LogisticRegression()),\n",
    "    (\"NaiveBayes\", GaussianNB()),\n",
    "    (\"RandomForest\", RandomForestClassifier(n_estimators=20, n_jobs=-1)),\n",
    "    (\"QDA\", QuadraticDiscriminantAnalysis()),\n",
    "    #(\"GP\", GaussianProcessClassifier()),\n",
    "    (\"KNN\", KNeighborsClassifier()),\n",
    "    (\"SVC\", SVC(probability=True)),\n",
    "    (\"MLP\", MLPClassifier()),\n",
    "    (\"AdaBoosting\", AdaBoostClassifier()),\n",
    "    (\"DecisionTree\", DecisionTreeClassifier())\n",
    "    \n",
    "]"
   ]
  },
  {
   "cell_type": "code",
   "execution_count": 14,
   "metadata": {
    "collapsed": false,
    "deletable": true,
    "editable": true
   },
   "outputs": [
    {
     "name": "stdout",
     "output_type": "stream",
     "text": [
      "LogisticRegression 0.0\n",
      "NaiveBayes 0.0\n",
      "RandomForest 1.0\n",
      "QDA 0.0\n",
      "KNN 1.0\n",
      "SVC 1.0\n",
      "MLP 0.975\n",
      "AdaBoosting 0.0\n",
      "DecisionTree 1.0\n"
     ]
    }
   ],
   "source": [
    "\"\"\"\n",
    "Test to make sure that multiple submissions from the same model aren't original\n",
    "\n",
    "Ideally, all these models should return 0. \n",
    "\"\"\"\n",
    "for name, model in models:\n",
    "    \n",
    "    predictions = similar_model(model, num_models=21)\n",
    "    score = score_similar_models(predictions)\n",
    "    print(name, score)\n",
    "    "
   ]
  },
  {
   "cell_type": "code",
   "execution_count": 13,
   "metadata": {
    "collapsed": false,
    "deletable": true,
    "editable": true
   },
   "outputs": [
    {
     "name": "stdout",
     "output_type": "stream",
     "text": [
      "LogisticRegression 0.03\n",
      "NaiveBayes 0.19000000000000003\n",
      "RandomForest 0.0\n",
      "QDA 0.19000000000000003\n",
      "KNN 0.0\n",
      "SVC 0.0\n",
      "MLP 0.02\n",
      "AdaBoosting 0.01\n",
      "DecisionTree 0.0\n"
     ]
    }
   ],
   "source": [
    "\"\"\"\n",
    "Find a small noise threshold where it passes originality.\n",
    "\n",
    "This tests robustness, and ideally these numbers should be high\n",
    "\"\"\"\n",
    "for name, model in models:\n",
    "    \n",
    "    thresh = find_noise_threshold(model)\n",
    "    \n",
    "    print(name, thresh)\n",
    "    "
   ]
  },
  {
   "cell_type": "code",
   "execution_count": null,
   "metadata": {
    "collapsed": true
   },
   "outputs": [],
   "source": []
  },
  {
   "cell_type": "code",
   "execution_count": null,
   "metadata": {
    "collapsed": true
   },
   "outputs": [],
   "source": []
  }
 ],
 "metadata": {
  "kernelspec": {
   "display_name": "Python 3",
   "language": "python",
   "name": "python3"
  },
  "language_info": {
   "codemirror_mode": {
    "name": "ipython",
    "version": 3
   },
   "file_extension": ".py",
   "mimetype": "text/x-python",
   "name": "python",
   "nbconvert_exporter": "python",
   "pygments_lexer": "ipython3",
   "version": "3.5.2"
  }
 },
 "nbformat": 4,
 "nbformat_minor": 2
}
